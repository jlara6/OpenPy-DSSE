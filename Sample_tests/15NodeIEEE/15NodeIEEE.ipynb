{
 "cells": [
  {
   "attachments": {},
   "cell_type": "markdown",
   "metadata": {},
   "source": [
    "# IEEE 15 Node Test Feeder"
   ]
  },
  {
   "attachments": {},
   "cell_type": "markdown",
   "metadata": {},
   "source": [
    "![R Users Group - Ecuador](https://github.com/jlara6/OpenPy-DSSE/blob/main/Sample_tests/15NodeIEEE/15NodeIEEE.jpg?raw=true)"
   ]
  },
  {
   "attachments": {},
   "cell_type": "markdown",
   "metadata": {},
   "source": [
    "## Import Libraries"
   ]
  },
  {
   "cell_type": "code",
   "execution_count": 13,
   "metadata": {},
   "outputs": [],
   "source": [
    "import openpy_dsse"
   ]
  },
  {
   "attachments": {},
   "cell_type": "markdown",
   "metadata": {},
   "source": [
    "## Start the class."
   ]
  },
  {
   "cell_type": "code",
   "execution_count": 14,
   "metadata": {},
   "outputs": [],
   "source": [
    "dsse = openpy_dsse.init_DSSE(\n",
    "    init_values='flat'\n",
    ")"
   ]
  },
  {
   "cell_type": "code",
   "execution_count": 15,
   "metadata": {},
   "outputs": [],
   "source": [
    "net = dsse.test_circuit(\n",
    "        Typ_cir='1ph',\n",
    "        case=2\n",
    "    )"
   ]
  },
  {
   "attachments": {},
   "cell_type": "markdown",
   "metadata": {},
   "source": [
    "## Execute the state estimation algorithm"
   ]
  },
  {
   "cell_type": "code",
   "execution_count": 16,
   "metadata": {},
   "outputs": [
    {
     "name": "stdout",
     "output_type": "stream",
     "text": [
      "\u001b[22mState estimation of a single-phase distribution network \u001b[0m\n",
      "----------------------------------------------------------------\n",
      "15NodeIEEE\n",
      "State estimation was successful\n",
      "Results obtained:\n",
      "Number of iterations: 3\n",
      "Tolerance obtained :1.20E-04\n",
      "Simulation time: 1.50E+00 seg\n",
      "Type and number of measurements:\n",
      "|| |Vi|: 2 || Pi: 14 || Qi: 14 || Pij: 2 || Qij: 2 || |Iij|: 0 || Vi|θ: 3 || Iij|δ: 2\n",
      "   bus_name Bus Nro.  V1(pu)_DSS  Ang1(deg)_DSS V1(pu)_EST Ang1(deg)_EST\n",
      "0     bus_1        1    1.009394       0.076735     1.0094           0.1\n",
      "1     bus_2        2    0.974975      -0.050535      0.975        0.1019\n",
      "2     bus_3        3    0.962290      -0.055202     0.9623        0.0993\n",
      "3     bus_4        4    0.953119      -0.091914     0.9531        0.0953\n",
      "4     bus_5        5    0.952051      -0.096829     0.9524        0.1054\n",
      "5     bus_9        6    0.972516      -0.058373     0.9725        0.0997\n",
      "6    bus_10        7    0.971648      -0.059912     0.9716        0.1001\n",
      "7     bus_6        8    0.967392      -0.074349     0.9674        0.1016\n",
      "8     bus_7        9    0.964353      -0.083937     0.9642         0.098\n",
      "9     bus_8       10    0.965875      -0.079157     0.9658        0.0967\n",
      "10   bus_11       11    0.957529      -0.068267     0.9573        0.1007\n",
      "11   bus_12       12    0.955474      -0.078073     0.9553        0.1002\n",
      "12   bus_13       13    0.953760      -0.086206     0.9536        0.1032\n",
      "13   bus_14       14    0.951522      -0.107501      0.952        0.1067\n",
      "14   bus_15       15    0.949920      -0.123086     0.9504        0.1118\n"
     ]
    }
   ],
   "source": [
    "Results = dsse.estimate(\n",
    "        DSS_path=net['DSS_file'],\n",
    "        MEAS_path=net['MEAS_path'],\n",
    "        path_save=net['save_path'],\n",
    "        Typ_cir=net['Typ_cir'],\n",
    "        name_project=net['name_project'],\n",
    "        View_res=True,\n",
    "        summary=True,\n",
    "        DSS_coll=True,\n",
    "        #MEAS_Pos=True,\n",
    "        #method='nonlinear'\n",
    "        #method='linear_PMU',\n",
    "    )"
   ]
  },
  {
   "cell_type": "code",
   "execution_count": null,
   "metadata": {},
   "outputs": [],
   "source": []
  }
 ],
 "metadata": {
  "kernelspec": {
   "display_name": "Python 3",
   "language": "python",
   "name": "python3"
  },
  "language_info": {
   "codemirror_mode": {
    "name": "ipython",
    "version": 3
   },
   "file_extension": ".py",
   "mimetype": "text/x-python",
   "name": "python",
   "nbconvert_exporter": "python",
   "pygments_lexer": "ipython3",
   "version": "3.9.13"
  },
  "orig_nbformat": 4
 },
 "nbformat": 4,
 "nbformat_minor": 2
}
