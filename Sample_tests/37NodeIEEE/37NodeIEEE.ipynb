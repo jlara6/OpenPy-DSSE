{
 "cells": [
  {
   "attachments": {},
   "cell_type": "markdown",
   "metadata": {},
   "source": [
    "# IEEE 37 Node Test Feeder"
   ]
  },
  {
   "attachments": {},
   "cell_type": "markdown",
   "metadata": {},
   "source": [
    "![R Users Group - Ecuador](https://github.com/jlara6/OpenPy-DSSE/blob/main/Sample_tests/37NodeIEEE/37%20Node%20IEEE.png?raw=true)"
   ]
  },
  {
   "attachments": {},
   "cell_type": "markdown",
   "metadata": {},
   "source": [
    "## Import Libraries"
   ]
  },
  {
   "cell_type": "code",
   "execution_count": 1,
   "metadata": {},
   "outputs": [
    {
     "name": "stdout",
     "output_type": "stream",
     "text": [
      "OpenDSS Started successfully! \n",
      "OpenDSS Version 9.4.0.1 (64-bit build); License Status: Open \n",
      "\n",
      "\n"
     ]
    }
   ],
   "source": [
    "import openpy_dsse"
   ]
  },
  {
   "attachments": {},
   "cell_type": "markdown",
   "metadata": {},
   "source": [
    "## Start the class."
   ]
  },
  {
   "cell_type": "code",
   "execution_count": 2,
   "metadata": {},
   "outputs": [],
   "source": [
    "dsse = openpy_dsse.init_DSSE(\n",
    "    init_values='flat'\n",
    ")"
   ]
  },
  {
   "cell_type": "code",
   "execution_count": 3,
   "metadata": {},
   "outputs": [],
   "source": [
    "net = dsse.test_circuit(\n",
    "        Typ_cir='Pos',\n",
    "        case=2\n",
    "    )"
   ]
  },
  {
   "attachments": {},
   "cell_type": "markdown",
   "metadata": {},
   "source": [
    "## Execute the state estimation algorithm"
   ]
  },
  {
   "cell_type": "code",
   "execution_count": 4,
   "metadata": {},
   "outputs": [
    {
     "name": "stdout",
     "output_type": "stream",
     "text": [
      "\u001b[1mState estimation through the positive sequence equivalent circuit\u001b[0m\n",
      "----------------------------------------------------------------\n",
      "37nodeIEEE\n",
      "State estimation was successful\n",
      "Results obtained:\n",
      "Number of iterations: 4\n",
      "Tolerance obtained :9.44E-04\n",
      "Simulation time: 1.63E+00 seg\n",
      "Type and number of measurements:\n",
      "|| |Vi|: 6 || Pi: 35 || Qi: 35 || Pij: 4 || Qij: 4 || |Iij|: 0 || Vi|θ: 3 || Iij|δ: 0\n",
      "   bus_name Bus Nro.  V1(pu)_DSS  Ang1(deg)_DSS V1(pu)_EST Ang1(deg)_EST\n",
      "0       799        1    0.999998      29.999398     1.0004          30.0\n",
      "1       701        2    0.987145      29.734615     0.9875       30.0002\n",
      "2       702        3    0.980243      29.584878     0.9813       30.0077\n",
      "3       705        4    0.979173      29.592977       0.98       30.0173\n",
      "4       713        5    0.978579      29.577646     0.9796       30.0005\n",
      "5       703        6    0.974439      29.458515     0.9756       30.0171\n",
      "6       727        7    0.973502      29.466843     0.9728        29.986\n",
      "7       730        8    0.969982      29.439275     0.9693       29.9969\n",
      "8       704        9    0.976562      29.568968     0.9775       30.0007\n",
      "9       714       10    0.976417      29.570044     0.9773       30.0001\n",
      "10      720       11    0.974282      29.559592     0.9753       30.0043\n",
      "11      742       12    0.978735      29.596340     0.9773        29.958\n",
      "12      712       13    0.978860      29.595345     0.9778       29.9669\n",
      "13      706       14    0.974059      29.558832      0.975       30.0026\n",
      "14      725       15    0.973876      29.560479     0.9743       29.9926\n",
      "15      707       16    0.971482      29.582797     0.9712        30.003\n",
      "16      724       17    0.971012      29.587000     0.9696       29.9839\n",
      "17      722       18    0.971190      29.585191     0.9705       29.9953\n",
      "18      708       19    0.966710      29.425278      0.966       30.0008\n",
      "19      733       20    0.964903      29.417451     0.9642       29.9995\n",
      "20      732       21    0.966500      29.427188     0.9655       29.9972\n",
      "21      709       22    0.968637      29.433488     0.9678       30.0002\n",
      "22      731       23    0.968216      29.431505     0.9668       29.9993\n",
      "23      710       24    0.961136      29.413996     0.9596       30.0083\n",
      "24      735       25    0.960870      29.416044     0.9583       29.9866\n",
      "25      736       26    0.960354      29.421006     0.9553       29.9428\n",
      "26      711       27    0.958591      29.390860     0.9586       30.0007\n",
      "27      741       28    0.958447      29.390234     0.9585       30.0012\n",
      "28      740       29    0.958325      29.392919     0.9582       29.9973\n",
      "29      718       30    0.975769      29.574943     0.9761       29.9908\n",
      "30      744       31    0.972983      29.465087     0.9727       30.0104\n",
      "31      734       32    0.962144      29.405936     0.9616       30.0033\n",
      "32      737       33    0.959937      29.396680     0.9597       30.0003\n",
      "33      738       34    0.959038      29.392936     0.9589       30.0003\n",
      "34      728       35    0.972590      29.468638     0.9715       29.9897\n",
      "35      729       36    0.972805      29.466570     0.9708       29.9698\n"
     ]
    }
   ],
   "source": [
    "Results = dsse.estimate(\n",
    "        DSS_path=net['DSS_file'],\n",
    "        MEAS_path=net['MEAS_path'],\n",
    "        path_save=net['save_path'],\n",
    "        Typ_cir=net['Typ_cir'],\n",
    "        name_project=net['name_project'],\n",
    "        View_res=True,\n",
    "        summary=True,\n",
    "        DSS_coll=True,\n",
    "        #MEAS_Pos=True,\n",
    "        #method='nonlinear'\n",
    "        #method='linear_PMU',\n",
    "    )"
   ]
  },
  {
   "cell_type": "code",
   "execution_count": null,
   "metadata": {},
   "outputs": [],
   "source": []
  }
 ],
 "metadata": {
  "kernelspec": {
   "display_name": "Python 3",
   "language": "python",
   "name": "python3"
  },
  "language_info": {
   "codemirror_mode": {
    "name": "ipython",
    "version": 3
   },
   "file_extension": ".py",
   "mimetype": "text/x-python",
   "name": "python",
   "nbconvert_exporter": "python",
   "pygments_lexer": "ipython3",
   "version": "3.9.13"
  },
  "orig_nbformat": 4
 },
 "nbformat": 4,
 "nbformat_minor": 2
}
